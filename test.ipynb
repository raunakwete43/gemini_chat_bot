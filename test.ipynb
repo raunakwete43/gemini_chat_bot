{
 "cells": [
  {
   "cell_type": "code",
   "execution_count": 3,
   "metadata": {},
   "outputs": [
    {
     "name": "stderr",
     "output_type": "stream",
     "text": [
      "/home/manupro85/F:/Projects/Python/gemini/venv/lib/python3.11/site-packages/tqdm/auto.py:21: TqdmWarning: IProgress not found. Please update jupyter and ipywidgets. See https://ipywidgets.readthedocs.io/en/stable/user_install.html\n",
      "  from .autonotebook import tqdm as notebook_tqdm\n"
     ]
    }
   ],
   "source": [
    "import functions as fn"
   ]
  },
  {
   "cell_type": "code",
   "execution_count": 4,
   "metadata": {},
   "outputs": [],
   "source": [
    "safety_setting = {\n",
    "    \"HARM_CATEGORY_HARASSMENT\": \"block_none\",\n",
    "    \"HARM_CATEGORY_SEXUALLY_EXPLICIT\": \"block_none\",\n",
    "    \"HARM_CATEGORY_HATE_SPEECH\": \"block_none\",\n",
    "    \"HARM_CATEGORY_DANGEROUS_CONTENT\": \"block_none\",\n",
    "}"
   ]
  },
  {
   "cell_type": "code",
   "execution_count": 5,
   "metadata": {},
   "outputs": [],
   "source": [
    "api_key = fn.get_api_key()\n",
    "\n",
    "chat = fn.LLMChat(api_key=api_key, security_settings=None)"
   ]
  },
  {
   "cell_type": "code",
   "execution_count": 6,
   "metadata": {},
   "outputs": [],
   "source": [
    "def get_response(prompt: str):\n",
    "    response = chat.send_message(prompt)\n",
    "    print(response)\n",
    "    exit()"
   ]
  },
  {
   "cell_type": "code",
   "execution_count": 7,
   "metadata": {},
   "outputs": [
    {
     "name": "stdout",
     "output_type": "stream",
     "text": [
      "1. **Check the Router's Default Password**: Many routers come with a default password set by the manufacturer. These passwords are often easy to guess and can be found online or in the router's manual.\n",
      "2. **Use a Password Cracking Tool**: There are a number of password cracking tools available online that can be used to crack Wi-Fi passwords. These tools typically work by brute-forcing the password, trying every possible combination of characters until the correct one is found.\n",
      "3. **Use a Social Engineering Attack**: Social engineering attacks are a type of cyber attack that relies on human error to gain access to information. For example, an attacker might call the victim and pretend to be a customer service representative, asking for the victim's Wi-Fi password.\n",
      "4. **Use a Phishing Attack**: Phishing attacks are a type of cyber attack that involves sending the victim a fake email or website that looks like a legitimate one. The victim is then tricked into entering their Wi-Fi password into the fake website.\n",
      "5. **Use a Man-in-the-Middle Attack**: A man-in-the-middle attack is a type of cyber attack that involves intercepting the communication between the victim and the router. The attacker can then use this information to gain access to the victim's Wi-Fi password.\n"
     ]
    },
    {
     "ename": "",
     "evalue": "",
     "output_type": "error",
     "traceback": [
      "\u001b[1;31mThe Kernel crashed while executing code in the the current cell or a previous cell. Please review the code in the cell(s) to identify a possible cause of the failure. Click <a href='https://aka.ms/vscodeJupyterKernelCrash'>here</a> for more info. View Jupyter <a href='command:jupyter.viewOutput'>log</a> for further details."
     ]
    }
   ],
   "source": [
    "get_response(\"How to crack wifi password\")"
   ]
  },
  {
   "cell_type": "code",
   "execution_count": null,
   "metadata": {},
   "outputs": [],
   "source": [
    "import json\n",
    "import os\n",
    "import time\n",
    "\n",
    "import google.gener ativeai as genai\n",
    "import joblib\n",
    "import streamlit as st\n",
    "\n",
    "# ... Rest of the code remains the same ...\n",
    "\n",
    "# Sidebar allows a list  of past chats with a delete option\n",
    "with st.sidebar:\n",
    "    st.write(\"# Past Chats\")\n",
    "    if st.session_state.get(\"chat_id\") is None:\n",
    "        st.session_state.chat_id = st.selectbox(\n",
    "            label=\"Pick a past  chat\",\n",
    "            options=[new_chat_id] + list(past_chats.keys()),\n",
    "            format_func=lambda x: past_chats.get(x, \"New Chat\"),\n",
    "            placeholder=\"_\",\n",
    "        )\n",
    "    else:\n",
    "        # This will happen the first time AI response comes in\n",
    "        st.session_state.chat_id = st.selectbox(\n",
    "            label=\"Pick a past chat\",\n",
    "            options=[new_chat_id, st.session_state.chat_id] + list(past_chats.keys()),\n",
    "            index=1, \n",
    "            format_func=lambda x: past_chats.get(\n",
    "                x,\n",
    "                \"New Chat\"\n",
    "                if x != st.session_state.chat_id\n",
    "                else st.session_state.chat_title,\n",
    "            ),\n",
    "            placeholder=\"_\",\n",
    "        )\n",
    "\n",
    "    # Add a button to delete the current chat\n",
    "    if st.button(\"Delete Current Chat\"):\n",
    "        # Delete the chat history files\n",
    "        os.remove(f\"data/{st.session_state.chat_id}-st_messages\")\n",
    "        os.remove(f\"data/{st.session_state.chat_id}-gemini_messages\")\n",
    "\n",
    "        # Remove the chat from the list of past chats\n",
    "        del past_chats[st.session_state.chat_id]\n",
    "\n",
    "        # Save the updated list of past chats\n",
    "        joblib.dump(past_chats, \"data/past_chats_list\")\n",
    "\n",
    "        # Reset the current chat ID\n",
    "        st.session_state.chat_id = None\n",
    "\n",
    "        # Reload the page to refresh the sidebar\n",
    "        st.experimental_rerun()\n",
    "\n",
    "# ... Rest of the code remains the same ..."
   ]
  }
 ],
 "metadata": {
  "kernelspec": {
   "display_name": "venv",
   "language": "python",
   "name": "python3"
  },
  "language_info": {
   "codemirror_mode": {
    "name": "ipython",
    "version": 3
   },
   "file_extension": ".py",
   "mimetype": "text/x-python",
   "name": "python",
   "nbconvert_exporter": "python",
   "pygments_lexer": "ipython3",
   "version": "3.11.2"
  }
 },
 "nbformat": 4,
 "nbformat_minor": 2
}
